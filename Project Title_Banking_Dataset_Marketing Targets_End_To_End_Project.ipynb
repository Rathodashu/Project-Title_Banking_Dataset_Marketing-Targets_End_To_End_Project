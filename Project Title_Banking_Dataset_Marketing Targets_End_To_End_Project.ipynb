{
 "cells": [
  {
   "cell_type": "markdown",
   "id": "ad7beac7",
   "metadata": {},
   "source": [
    "## Step 1: Problem Definition :-\n",
    "\n",
    "#### Objective: The goal is to develop a machine learning model to predict whether a customer will subscribe to a term deposit (binary classification problem: 'yes' or 'no').\n",
    "\n",
    "#### Dataset: The data is from a Portuguese bank’s direct marketing campaigns, primarily telephonic, aimed at selling term deposits."
   ]
  },
  {
   "cell_type": "markdown",
   "id": "413665da",
   "metadata": {},
   "source": [
    "##  Import Libraries and Load Data"
   ]
  },
  {
   "cell_type": "code",
   "execution_count": 2,
   "id": "abf53ac4",
   "metadata": {},
   "outputs": [],
   "source": [
    "import numpy as np\n",
    "import pandas as pd\n",
    "import matplotlib.pyplot as plt\n",
    "import seaborn as sns"
   ]
  },
  {
   "cell_type": "markdown",
   "id": "e188ff07",
   "metadata": {},
   "source": [
    "## Step 2: Data Collection :-\n",
    "\n",
    "#### Source: The dataset includes two CSV files (train.csv and test.csv)."
   ]
  },
  {
   "cell_type": "code",
   "execution_count": 3,
   "id": "8b971c31",
   "metadata": {},
   "outputs": [],
   "source": [
    "# Load datasets\n",
    "df_1 = pd.read_csv(r\"C:\\Users\\Hp\\Downloads\\test (2).csv\",sep=';')\n",
    "df_2 = pd.read_csv(r\"C:\\Users\\Hp\\Downloads\\train.csv\", sep=';')"
   ]
  },
  {
   "cell_type": "code",
   "execution_count": 4,
   "id": "11ecf118",
   "metadata": {},
   "outputs": [],
   "source": [
    "# Combining both train Test Datasets\n",
    "\n",
    "df = pd.concat([df_1,df_2],ignore_index=True)"
   ]
  },
  {
   "cell_type": "markdown",
   "id": "1020829a",
   "metadata": {},
   "source": [
    "## Step:3 Data Understanding "
   ]
  },
  {
   "cell_type": "code",
   "execution_count": 5,
   "id": "1196cc82",
   "metadata": {},
   "outputs": [
    {
     "data": {
      "text/html": [
       "<div>\n",
       "<style scoped>\n",
       "    .dataframe tbody tr th:only-of-type {\n",
       "        vertical-align: middle;\n",
       "    }\n",
       "\n",
       "    .dataframe tbody tr th {\n",
       "        vertical-align: top;\n",
       "    }\n",
       "\n",
       "    .dataframe thead th {\n",
       "        text-align: right;\n",
       "    }\n",
       "</style>\n",
       "<table border=\"1\" class=\"dataframe\">\n",
       "  <thead>\n",
       "    <tr style=\"text-align: right;\">\n",
       "      <th></th>\n",
       "      <th>age</th>\n",
       "      <th>job</th>\n",
       "      <th>marital</th>\n",
       "      <th>education</th>\n",
       "      <th>default</th>\n",
       "      <th>balance</th>\n",
       "      <th>housing</th>\n",
       "      <th>loan</th>\n",
       "      <th>contact</th>\n",
       "      <th>day</th>\n",
       "      <th>month</th>\n",
       "      <th>duration</th>\n",
       "      <th>campaign</th>\n",
       "      <th>pdays</th>\n",
       "      <th>previous</th>\n",
       "      <th>poutcome</th>\n",
       "      <th>y</th>\n",
       "    </tr>\n",
       "  </thead>\n",
       "  <tbody>\n",
       "    <tr>\n",
       "      <th>0</th>\n",
       "      <td>30</td>\n",
       "      <td>unemployed</td>\n",
       "      <td>married</td>\n",
       "      <td>primary</td>\n",
       "      <td>no</td>\n",
       "      <td>1787</td>\n",
       "      <td>no</td>\n",
       "      <td>no</td>\n",
       "      <td>cellular</td>\n",
       "      <td>19</td>\n",
       "      <td>oct</td>\n",
       "      <td>79</td>\n",
       "      <td>1</td>\n",
       "      <td>-1</td>\n",
       "      <td>0</td>\n",
       "      <td>unknown</td>\n",
       "      <td>no</td>\n",
       "    </tr>\n",
       "    <tr>\n",
       "      <th>1</th>\n",
       "      <td>33</td>\n",
       "      <td>services</td>\n",
       "      <td>married</td>\n",
       "      <td>secondary</td>\n",
       "      <td>no</td>\n",
       "      <td>4789</td>\n",
       "      <td>yes</td>\n",
       "      <td>yes</td>\n",
       "      <td>cellular</td>\n",
       "      <td>11</td>\n",
       "      <td>may</td>\n",
       "      <td>220</td>\n",
       "      <td>1</td>\n",
       "      <td>339</td>\n",
       "      <td>4</td>\n",
       "      <td>failure</td>\n",
       "      <td>no</td>\n",
       "    </tr>\n",
       "    <tr>\n",
       "      <th>2</th>\n",
       "      <td>35</td>\n",
       "      <td>management</td>\n",
       "      <td>single</td>\n",
       "      <td>tertiary</td>\n",
       "      <td>no</td>\n",
       "      <td>1350</td>\n",
       "      <td>yes</td>\n",
       "      <td>no</td>\n",
       "      <td>cellular</td>\n",
       "      <td>16</td>\n",
       "      <td>apr</td>\n",
       "      <td>185</td>\n",
       "      <td>1</td>\n",
       "      <td>330</td>\n",
       "      <td>1</td>\n",
       "      <td>failure</td>\n",
       "      <td>no</td>\n",
       "    </tr>\n",
       "    <tr>\n",
       "      <th>3</th>\n",
       "      <td>30</td>\n",
       "      <td>management</td>\n",
       "      <td>married</td>\n",
       "      <td>tertiary</td>\n",
       "      <td>no</td>\n",
       "      <td>1476</td>\n",
       "      <td>yes</td>\n",
       "      <td>yes</td>\n",
       "      <td>unknown</td>\n",
       "      <td>3</td>\n",
       "      <td>jun</td>\n",
       "      <td>199</td>\n",
       "      <td>4</td>\n",
       "      <td>-1</td>\n",
       "      <td>0</td>\n",
       "      <td>unknown</td>\n",
       "      <td>no</td>\n",
       "    </tr>\n",
       "    <tr>\n",
       "      <th>4</th>\n",
       "      <td>59</td>\n",
       "      <td>blue-collar</td>\n",
       "      <td>married</td>\n",
       "      <td>secondary</td>\n",
       "      <td>no</td>\n",
       "      <td>0</td>\n",
       "      <td>yes</td>\n",
       "      <td>no</td>\n",
       "      <td>unknown</td>\n",
       "      <td>5</td>\n",
       "      <td>may</td>\n",
       "      <td>226</td>\n",
       "      <td>1</td>\n",
       "      <td>-1</td>\n",
       "      <td>0</td>\n",
       "      <td>unknown</td>\n",
       "      <td>no</td>\n",
       "    </tr>\n",
       "  </tbody>\n",
       "</table>\n",
       "</div>"
      ],
      "text/plain": [
       "   age          job  marital  education default  balance housing loan  \\\n",
       "0   30   unemployed  married    primary      no     1787      no   no   \n",
       "1   33     services  married  secondary      no     4789     yes  yes   \n",
       "2   35   management   single   tertiary      no     1350     yes   no   \n",
       "3   30   management  married   tertiary      no     1476     yes  yes   \n",
       "4   59  blue-collar  married  secondary      no        0     yes   no   \n",
       "\n",
       "    contact  day month  duration  campaign  pdays  previous poutcome   y  \n",
       "0  cellular   19   oct        79         1     -1         0  unknown  no  \n",
       "1  cellular   11   may       220         1    339         4  failure  no  \n",
       "2  cellular   16   apr       185         1    330         1  failure  no  \n",
       "3   unknown    3   jun       199         4     -1         0  unknown  no  \n",
       "4   unknown    5   may       226         1     -1         0  unknown  no  "
      ]
     },
     "execution_count": 5,
     "metadata": {},
     "output_type": "execute_result"
    }
   ],
   "source": [
    "df.head()"
   ]
  },
  {
   "cell_type": "code",
   "execution_count": 6,
   "id": "230bff34",
   "metadata": {},
   "outputs": [
    {
     "name": "stdout",
     "output_type": "stream",
     "text": [
      "<class 'pandas.core.frame.DataFrame'>\n",
      "RangeIndex: 49732 entries, 0 to 49731\n",
      "Data columns (total 17 columns):\n",
      " #   Column     Non-Null Count  Dtype \n",
      "---  ------     --------------  ----- \n",
      " 0   age        49732 non-null  int64 \n",
      " 1   job        49732 non-null  object\n",
      " 2   marital    49732 non-null  object\n",
      " 3   education  49732 non-null  object\n",
      " 4   default    49732 non-null  object\n",
      " 5   balance    49732 non-null  int64 \n",
      " 6   housing    49732 non-null  object\n",
      " 7   loan       49732 non-null  object\n",
      " 8   contact    49732 non-null  object\n",
      " 9   day        49732 non-null  int64 \n",
      " 10  month      49732 non-null  object\n",
      " 11  duration   49732 non-null  int64 \n",
      " 12  campaign   49732 non-null  int64 \n",
      " 13  pdays      49732 non-null  int64 \n",
      " 14  previous   49732 non-null  int64 \n",
      " 15  poutcome   49732 non-null  object\n",
      " 16  y          49732 non-null  object\n",
      "dtypes: int64(7), object(10)\n",
      "memory usage: 6.5+ MB\n"
     ]
    }
   ],
   "source": [
    "df.info()"
   ]
  },
  {
   "cell_type": "code",
   "execution_count": 7,
   "id": "eaaf6e0d",
   "metadata": {},
   "outputs": [
    {
     "data": {
      "text/html": [
       "<div>\n",
       "<style scoped>\n",
       "    .dataframe tbody tr th:only-of-type {\n",
       "        vertical-align: middle;\n",
       "    }\n",
       "\n",
       "    .dataframe tbody tr th {\n",
       "        vertical-align: top;\n",
       "    }\n",
       "\n",
       "    .dataframe thead th {\n",
       "        text-align: right;\n",
       "    }\n",
       "</style>\n",
       "<table border=\"1\" class=\"dataframe\">\n",
       "  <thead>\n",
       "    <tr style=\"text-align: right;\">\n",
       "      <th></th>\n",
       "      <th>age</th>\n",
       "      <th>balance</th>\n",
       "      <th>day</th>\n",
       "      <th>duration</th>\n",
       "      <th>campaign</th>\n",
       "      <th>pdays</th>\n",
       "      <th>previous</th>\n",
       "    </tr>\n",
       "  </thead>\n",
       "  <tbody>\n",
       "    <tr>\n",
       "      <th>count</th>\n",
       "      <td>49732.00</td>\n",
       "      <td>49732.00</td>\n",
       "      <td>49732.00</td>\n",
       "      <td>49732.00</td>\n",
       "      <td>49732.00</td>\n",
       "      <td>49732.00</td>\n",
       "      <td>49732.00</td>\n",
       "    </tr>\n",
       "    <tr>\n",
       "      <th>mean</th>\n",
       "      <td>40.96</td>\n",
       "      <td>1367.76</td>\n",
       "      <td>15.82</td>\n",
       "      <td>258.69</td>\n",
       "      <td>2.77</td>\n",
       "      <td>40.16</td>\n",
       "      <td>0.58</td>\n",
       "    </tr>\n",
       "    <tr>\n",
       "      <th>std</th>\n",
       "      <td>10.62</td>\n",
       "      <td>3041.61</td>\n",
       "      <td>8.32</td>\n",
       "      <td>257.74</td>\n",
       "      <td>3.10</td>\n",
       "      <td>100.13</td>\n",
       "      <td>2.25</td>\n",
       "    </tr>\n",
       "    <tr>\n",
       "      <th>min</th>\n",
       "      <td>18.00</td>\n",
       "      <td>-8019.00</td>\n",
       "      <td>1.00</td>\n",
       "      <td>0.00</td>\n",
       "      <td>1.00</td>\n",
       "      <td>-1.00</td>\n",
       "      <td>0.00</td>\n",
       "    </tr>\n",
       "    <tr>\n",
       "      <th>25%</th>\n",
       "      <td>33.00</td>\n",
       "      <td>72.00</td>\n",
       "      <td>8.00</td>\n",
       "      <td>103.00</td>\n",
       "      <td>1.00</td>\n",
       "      <td>-1.00</td>\n",
       "      <td>0.00</td>\n",
       "    </tr>\n",
       "    <tr>\n",
       "      <th>50%</th>\n",
       "      <td>39.00</td>\n",
       "      <td>448.00</td>\n",
       "      <td>16.00</td>\n",
       "      <td>180.00</td>\n",
       "      <td>2.00</td>\n",
       "      <td>-1.00</td>\n",
       "      <td>0.00</td>\n",
       "    </tr>\n",
       "    <tr>\n",
       "      <th>75%</th>\n",
       "      <td>48.00</td>\n",
       "      <td>1431.00</td>\n",
       "      <td>21.00</td>\n",
       "      <td>320.00</td>\n",
       "      <td>3.00</td>\n",
       "      <td>-1.00</td>\n",
       "      <td>0.00</td>\n",
       "    </tr>\n",
       "    <tr>\n",
       "      <th>max</th>\n",
       "      <td>95.00</td>\n",
       "      <td>102127.00</td>\n",
       "      <td>31.00</td>\n",
       "      <td>4918.00</td>\n",
       "      <td>63.00</td>\n",
       "      <td>871.00</td>\n",
       "      <td>275.00</td>\n",
       "    </tr>\n",
       "  </tbody>\n",
       "</table>\n",
       "</div>"
      ],
      "text/plain": [
       "            age    balance       day  duration  campaign     pdays  previous\n",
       "count  49732.00   49732.00  49732.00  49732.00  49732.00  49732.00  49732.00\n",
       "mean      40.96    1367.76     15.82    258.69      2.77     40.16      0.58\n",
       "std       10.62    3041.61      8.32    257.74      3.10    100.13      2.25\n",
       "min       18.00   -8019.00      1.00      0.00      1.00     -1.00      0.00\n",
       "25%       33.00      72.00      8.00    103.00      1.00     -1.00      0.00\n",
       "50%       39.00     448.00     16.00    180.00      2.00     -1.00      0.00\n",
       "75%       48.00    1431.00     21.00    320.00      3.00     -1.00      0.00\n",
       "max       95.00  102127.00     31.00   4918.00     63.00    871.00    275.00"
      ]
     },
     "execution_count": 7,
     "metadata": {},
     "output_type": "execute_result"
    }
   ],
   "source": [
    "round(df.describe(),2)"
   ]
  },
  {
   "cell_type": "code",
   "execution_count": 8,
   "id": "850d9f42",
   "metadata": {},
   "outputs": [
    {
     "name": "stdout",
     "output_type": "stream",
     "text": [
      "Number of the Rows 49732\n",
      "Number of the Column 17\n"
     ]
    }
   ],
   "source": [
    "print('Number of the Rows',df.shape[0])\n",
    "print('Number of the Column',df.shape[1])"
   ]
  },
  {
   "cell_type": "code",
   "execution_count": 9,
   "id": "8a489a8b",
   "metadata": {},
   "outputs": [
    {
     "data": {
      "text/plain": [
       "age           int64\n",
       "job          object\n",
       "marital      object\n",
       "education    object\n",
       "default      object\n",
       "balance       int64\n",
       "housing      object\n",
       "loan         object\n",
       "contact      object\n",
       "day           int64\n",
       "month        object\n",
       "duration      int64\n",
       "campaign      int64\n",
       "pdays         int64\n",
       "previous      int64\n",
       "poutcome     object\n",
       "y            object\n",
       "dtype: object"
      ]
     },
     "execution_count": 9,
     "metadata": {},
     "output_type": "execute_result"
    }
   ],
   "source": [
    "# Checking data types\n",
    "\n",
    "df.dtypes"
   ]
  },
  {
   "cell_type": "markdown",
   "id": "aeb36cbc",
   "metadata": {},
   "source": [
    "## Step 4: Data Preprocessing & Cleaning "
   ]
  },
  {
   "cell_type": "code",
   "execution_count": 10,
   "id": "0c94f48b",
   "metadata": {},
   "outputs": [
    {
     "data": {
      "text/plain": [
       "age          0\n",
       "job          0\n",
       "marital      0\n",
       "education    0\n",
       "default      0\n",
       "balance      0\n",
       "housing      0\n",
       "loan         0\n",
       "contact      0\n",
       "day          0\n",
       "month        0\n",
       "duration     0\n",
       "campaign     0\n",
       "pdays        0\n",
       "previous     0\n",
       "poutcome     0\n",
       "y            0\n",
       "dtype: int64"
      ]
     },
     "execution_count": 10,
     "metadata": {},
     "output_type": "execute_result"
    }
   ],
   "source": [
    "df.isnull().sum()"
   ]
  },
  {
   "cell_type": "code",
   "execution_count": 11,
   "id": "7d301c7d",
   "metadata": {},
   "outputs": [
    {
     "name": "stdout",
     "output_type": "stream",
     "text": [
      "job\n",
      "['unemployed' 'services' 'management' 'blue-collar' 'self-employed'\n",
      " 'technician' 'entrepreneur' 'admin.' 'student' 'housemaid' 'retired'\n",
      " 'unknown']\n",
      "marital\n",
      "['married' 'single' 'divorced']\n",
      "education\n",
      "['primary' 'secondary' 'tertiary' 'unknown']\n",
      "default\n",
      "['no' 'yes']\n",
      "housing\n",
      "['no' 'yes']\n",
      "loan\n",
      "['no' 'yes']\n",
      "contact\n",
      "['cellular' 'unknown' 'telephone']\n",
      "month\n",
      "['oct' 'may' 'apr' 'jun' 'feb' 'aug' 'jan' 'jul' 'nov' 'sep' 'mar' 'dec']\n",
      "poutcome\n",
      "['unknown' 'failure' 'other' 'success']\n",
      "y\n",
      "['no' 'yes']\n"
     ]
    }
   ],
   "source": [
    "for col in df.select_dtypes(include='object').columns:\n",
    "    print(col)\n",
    "    print(df[col].unique())"
   ]
  },
  {
   "cell_type": "code",
   "execution_count": 12,
   "id": "42fb5852",
   "metadata": {},
   "outputs": [
    {
     "name": "stdout",
     "output_type": "stream",
     "text": [
      "No missing value found\n"
     ]
    }
   ],
   "source": [
    "features_na = [features for features in df.columns if df[features].isnull().sum()>0]\n",
    "for feature in features_na:\n",
    "    print(feature, np.round(df[feature].isnull().sum(),4), '% missing values')\n",
    "else:\n",
    "    print('No missing value found')"
   ]
  },
  {
   "cell_type": "markdown",
   "id": "12d54974",
   "metadata": {},
   "source": [
    "### Find features with one value"
   ]
  },
  {
   "cell_type": "code",
   "execution_count": 13,
   "id": "fdb81192",
   "metadata": {},
   "outputs": [],
   "source": [
    "for column in df.columns:\n",
    "    if len(df[column].unique()) == 1:\n",
    "        print(f\"Feature '{column}' has only one unique value.\")"
   ]
  },
  {
   "cell_type": "code",
   "execution_count": 14,
   "id": "f3de590d",
   "metadata": {},
   "outputs": [
    {
     "name": "stdout",
     "output_type": "stream",
     "text": [
      "age 77\n",
      "job 12\n",
      "marital 3\n",
      "education 4\n",
      "default 2\n",
      "balance 7168\n",
      "housing 2\n",
      "loan 2\n",
      "contact 3\n",
      "day 31\n",
      "month 12\n",
      "duration 1573\n",
      "campaign 48\n",
      "pdays 559\n",
      "previous 41\n",
      "poutcome 4\n",
      "y 2\n"
     ]
    }
   ],
   "source": [
    "for column in df.columns:\n",
    "    print(column,df[column].nunique())"
   ]
  },
  {
   "cell_type": "markdown",
   "id": "560f9104",
   "metadata": {},
   "source": [
    "### Explore the categorical features"
   ]
  },
  {
   "cell_type": "code",
   "execution_count": 15,
   "id": "fc89f706",
   "metadata": {},
   "outputs": [
    {
     "name": "stdout",
     "output_type": "stream",
     "text": [
      "Feature: job\n",
      "Unique Values: ['unemployed' 'services' 'management' 'blue-collar' 'self-employed'\n",
      " 'technician' 'entrepreneur' 'admin.' 'student' 'housemaid' 'retired'\n",
      " 'unknown']\n",
      "Value Counts: \n",
      "blue-collar      10678\n",
      "management       10427\n",
      "technician        8365\n",
      "admin.            5649\n",
      "services          4571\n",
      "retired           2494\n",
      "self-employed     1762\n",
      "entrepreneur      1655\n",
      "unemployed        1431\n",
      "housemaid         1352\n",
      "student           1022\n",
      "unknown            326\n",
      "Name: job, dtype: int64\n",
      "--------------------\n",
      "Feature: marital\n",
      "Unique Values: ['married' 'single' 'divorced']\n",
      "Value Counts: \n",
      "married     30011\n",
      "single      13986\n",
      "divorced     5735\n",
      "Name: marital, dtype: int64\n",
      "--------------------\n",
      "Feature: education\n",
      "Unique Values: ['primary' 'secondary' 'tertiary' 'unknown']\n",
      "Value Counts: \n",
      "secondary    25508\n",
      "tertiary     14651\n",
      "primary       7529\n",
      "unknown       2044\n",
      "Name: education, dtype: int64\n",
      "--------------------\n",
      "Feature: default\n",
      "Unique Values: ['no' 'yes']\n",
      "Value Counts: \n",
      "no     48841\n",
      "yes      891\n",
      "Name: default, dtype: int64\n",
      "--------------------\n",
      "Feature: housing\n",
      "Unique Values: ['no' 'yes']\n",
      "Value Counts: \n",
      "yes    27689\n",
      "no     22043\n",
      "Name: housing, dtype: int64\n",
      "--------------------\n",
      "Feature: loan\n",
      "Unique Values: ['no' 'yes']\n",
      "Value Counts: \n",
      "no     41797\n",
      "yes     7935\n",
      "Name: loan, dtype: int64\n",
      "--------------------\n",
      "Feature: contact\n",
      "Unique Values: ['cellular' 'unknown' 'telephone']\n",
      "Value Counts: \n",
      "cellular     32181\n",
      "unknown      14344\n",
      "telephone     3207\n",
      "Name: contact, dtype: int64\n",
      "--------------------\n",
      "Feature: month\n",
      "Unique Values: ['oct' 'may' 'apr' 'jun' 'feb' 'aug' 'jan' 'jul' 'nov' 'sep' 'mar' 'dec']\n",
      "Value Counts: \n",
      "may    15164\n",
      "jul     7601\n",
      "aug     6880\n",
      "jun     5872\n",
      "nov     4359\n",
      "apr     3225\n",
      "feb     2871\n",
      "jan     1551\n",
      "oct      818\n",
      "sep      631\n",
      "mar      526\n",
      "dec      234\n",
      "Name: month, dtype: int64\n",
      "--------------------\n",
      "Feature: poutcome\n",
      "Unique Values: ['unknown' 'failure' 'other' 'success']\n",
      "Value Counts: \n",
      "unknown    40664\n",
      "failure     5391\n",
      "other       2037\n",
      "success     1640\n",
      "Name: poutcome, dtype: int64\n",
      "--------------------\n",
      "Feature: y\n",
      "Unique Values: ['no' 'yes']\n",
      "Value Counts: \n",
      "no     43922\n",
      "yes     5810\n",
      "Name: y, dtype: int64\n",
      "--------------------\n"
     ]
    }
   ],
   "source": [
    "categorical_features = [feature for feature in df.columns if df[feature].dtype == 'O']\n",
    "for feature in categorical_features:\n",
    "  print(f\"Feature: {feature}\")\n",
    "  print(f\"Unique Values: {df[feature].unique()}\")\n",
    "  print(f\"Value Counts: \\n{df[feature].value_counts()}\")\n",
    "  print(\"-\" * 20)"
   ]
  },
  {
   "cell_type": "code",
   "execution_count": 16,
   "id": "e5b88dc4",
   "metadata": {},
   "outputs": [
    {
     "name": "stdout",
     "output_type": "stream",
     "text": [
      "Relationship between 'job' and 'y':\n",
      "y                no   yes\n",
      "job                      \n",
      "admin.         4960   689\n",
      "blue-collar    9901   777\n",
      "entrepreneur   1517   138\n",
      "housemaid      1229   123\n",
      "management     8995  1432\n",
      "retired        1924   570\n",
      "self-employed  1555   207\n",
      "services       4164   407\n",
      "student         734   288\n",
      "technician     7442   923\n",
      "unemployed     1216   215\n",
      "unknown         285    41\n",
      "--------------------\n",
      "Relationship between 'marital' and 'y':\n",
      "y            no   yes\n",
      "marital              \n",
      "divorced   5036   699\n",
      "married   26979  3032\n",
      "single    11907  2079\n",
      "--------------------\n",
      "Relationship between 'education' and 'y':\n",
      "y             no   yes\n",
      "education             \n",
      "primary     6874   655\n",
      "secondary  22813  2695\n",
      "tertiary   12462  2189\n",
      "unknown     1773   271\n",
      "--------------------\n",
      "Relationship between 'default' and 'y':\n",
      "y           no   yes\n",
      "default             \n",
      "no       43092  5749\n",
      "yes        830    61\n",
      "--------------------\n",
      "Relationship between 'housing' and 'y':\n",
      "y           no   yes\n",
      "housing             \n",
      "no       18388  3655\n",
      "yes      25534  2155\n",
      "--------------------\n",
      "Relationship between 'loan' and 'y':\n",
      "y        no   yes\n",
      "loan             \n",
      "no    36514  5283\n",
      "yes    7408   527\n",
      "--------------------\n",
      "Relationship between 'contact' and 'y':\n",
      "y             no   yes\n",
      "contact               \n",
      "cellular   27396  4785\n",
      "telephone   2773   434\n",
      "unknown    13753   591\n",
      "--------------------\n",
      "Relationship between 'month' and 'y':\n",
      "y         no   yes\n",
      "month             \n",
      "apr     2592   633\n",
      "aug     6113   767\n",
      "dec      125   109\n",
      "feb     2392   479\n",
      "jan     1393   158\n",
      "jul     6913   688\n",
      "jun     5271   601\n",
      "mar      257   269\n",
      "may    14146  1018\n",
      "nov     3917   442\n",
      "oct      458   360\n",
      "sep      345   286\n",
      "--------------------\n",
      "Relationship between 'poutcome' and 'y':\n",
      "y            no   yes\n",
      "poutcome             \n",
      "failure    4710   681\n",
      "other      1692   345\n",
      "success     579  1061\n",
      "unknown   36941  3723\n",
      "--------------------\n"
     ]
    }
   ],
   "source": [
    "for feature in categorical_features:\n",
    "  if feature != 'y':  # Exclude the target variable itself\n",
    "    print(f\"Relationship between '{feature}' and 'y':\")\n",
    "    print(pd.crosstab(df[feature], df['y']))\n",
    "    print(\"-\" * 20)"
   ]
  },
  {
   "cell_type": "code",
   "execution_count": 17,
   "id": "4c22defb",
   "metadata": {},
   "outputs": [
    {
     "data": {
      "image/png": "[encoded data removed]",
      "text/plain": [
       "<Figure size 1200x8000 with 1 Axes>"
      ]
     },
     "metadata": {},
     "output_type": "display_data"
    },
    {
     "data": {
      "image/png": "[encoded data removed]",
      "text/plain": [
       "<Figure size 640x480 with 1 Axes>"
      ]
     },
     "metadata": {},
     "output_type": "display_data"
    },
    {
     "data": {
      "image/png": "[encoded data removed]",
      "text/plain": [
       "<Figure size 640x480 with 1 Axes>"
      ]
     },
     "metadata": {},
     "output_type": "display_data"
    },
    {
     "data": {
      "image/png": "[encoded data removed]",
      "text/plain": [
       "<Figure size 640x480 with 1 Axes>"
      ]
     },
     "metadata": {},
     "output_type": "display_data"
    },
    {
     "data": {
      "image/png": "[encoded data removed]",
      "text/plain": [
       "<Figure size 640x480 with 1 Axes>"
      ]
     },
     "metadata": {},
     "output_type": "display_data"
    },
    {
     "data": {
      "image/png": "[encoded data removed]",
      "text/plain": [
       "<Figure size 640x480 with 1 Axes>"
      ]
     },
     "metadata": {},
     "output_type": "display_data"
    },
    {
     "data": {
      "image/png": "[encoded data removed]",
      "text/plain": [
       "<Figure size 640x480 with 1 Axes>"
      ]
     },
     "metadata": {},
     "output_type": "display_data"
    },
    {
     "data": {
      "image/png": "[encoded data removed]",
      "text/plain": [
       "<Figure size 640x480 with 1 Axes>"
      ]
     },
     "metadata": {},
     "output_type": "display_data"
    },
    {
     "data": {
      "image/png": "[encoded data removed]",
      "text/plain": [
       "<Figure size 640x480 with 1 Axes>"
      ]
     },
     "metadata": {},
     "output_type": "display_data"
    },
    {
     "data": {
      "image/png": "[encoded data removed]",
      "text/plain": [
       "<Figure size 640x480 with 1 Axes>"
      ]
     },
     "metadata": {},
     "output_type": "display_data"
    }
   ],
   "source": [
    "plt.figure(figsize=(12,80), facecolor='white')\n",
    "plotnumber = 1\n",
    "for categorical_feature in categorical_features:\n",
    "    ax = plt.subplot(18,3,plotnumber)\n",
    "    sns.countplot(y=categorical_feature,data=df)\n",
    "    plt.xlabel(categorical_feature)\n",
    "    plt.ylabel(categorical_feature)\n",
    "    plotnumber+=1\n",
    "    plt.show()"
   ]
  },
  {
   "cell_type": "markdown",
   "id": "ba5e145b",
   "metadata": {},
   "source": [
    "### Relationship between categorical features and label"
   ]
  },
  {
   "cell_type": "code",
   "execution_count": 18,
   "id": "5c285923",
   "metadata": {},
   "outputs": [
    {
     "name": "stdout",
     "output_type": "stream",
     "text": [
      "job\n",
      "marital\n",
      "education\n",
      "default\n",
      "housing\n",
      "loan\n",
      "contact\n",
      "month\n",
      "poutcome\n",
      "y\n"
     ]
    }
   ],
   "source": [
    "for categorical_feature in categorical_features:\n",
    "    print(categorical_feature)"
   ]
  },
  {
   "cell_type": "code",
   "execution_count": 19,
   "id": "4b766fd2",
   "metadata": {},
   "outputs": [
    {
     "name": "stdout",
     "output_type": "stream",
     "text": [
      "['age', 'balance', 'day', 'duration', 'campaign', 'pdays', 'previous']\n"
     ]
    }
   ],
   "source": [
    "numerical_features = [feature for feature in df.columns if df[feature].dtype != 'O']\n",
    "print(numerical_features)"
   ]
  },
  {
   "cell_type": "code",
   "execution_count": 20,
   "id": "741954bd",
   "metadata": {},
   "outputs": [
    {
     "name": "stdout",
     "output_type": "stream",
     "text": [
      "Feature: age\n",
      "Descriptive Statistics: \n",
      "count    49732.000000\n",
      "mean        40.957472\n",
      "std         10.615008\n",
      "min         18.000000\n",
      "25%         33.000000\n",
      "50%         39.000000\n",
      "75%         48.000000\n",
      "max         95.000000\n",
      "Name: age, dtype: float64\n",
      "--------------------\n",
      "Feature: balance\n",
      "Descriptive Statistics: \n",
      "count     49732.000000\n",
      "mean       1367.761562\n",
      "std        3041.608766\n",
      "min       -8019.000000\n",
      "25%          72.000000\n",
      "50%         448.000000\n",
      "75%        1431.000000\n",
      "max      102127.000000\n",
      "Name: balance, dtype: float64\n",
      "--------------------\n",
      "Feature: day\n",
      "Descriptive Statistics: \n",
      "count    49732.000000\n",
      "mean        15.816315\n",
      "std          8.315680\n",
      "min          1.000000\n",
      "25%          8.000000\n",
      "50%         16.000000\n",
      "75%         21.000000\n",
      "max         31.000000\n",
      "Name: day, dtype: float64\n",
      "--------------------\n",
      "Feature: duration\n",
      "Descriptive Statistics: \n",
      "count    49732.000000\n",
      "mean       258.690179\n",
      "std        257.743149\n",
      "min          0.000000\n",
      "25%        103.000000\n",
      "50%        180.000000\n",
      "75%        320.000000\n",
      "max       4918.000000\n",
      "Name: duration, dtype: float64\n",
      "--------------------\n",
      "Feature: campaign\n",
      "Descriptive Statistics: \n",
      "count    49732.000000\n",
      "mean         2.766549\n",
      "std          3.099075\n",
      "min          1.000000\n",
      "25%          1.000000\n",
      "50%          2.000000\n",
      "75%          3.000000\n",
      "max         63.000000\n",
      "Name: campaign, dtype: float64\n",
      "--------------------\n",
      "Feature: pdays\n",
      "Descriptive Statistics: \n",
      "count    49732.000000\n",
      "mean        40.158630\n",
      "std        100.127123\n",
      "min         -1.000000\n",
      "25%         -1.000000\n",
      "50%         -1.000000\n",
      "75%         -1.000000\n",
      "max        871.000000\n",
      "Name: pdays, dtype: float64\n",
      "--------------------\n",
      "Feature: previous\n",
      "Descriptive Statistics: \n",
      "count    49732.000000\n",
      "mean         0.576892\n",
      "std          2.254838\n",
      "min          0.000000\n",
      "25%          0.000000\n",
      "50%          0.000000\n",
      "75%          0.000000\n",
      "max        275.000000\n",
      "Name: previous, dtype: float64\n",
      "--------------------\n"
     ]
    }
   ],
   "source": [
    "for numerical_feature in numerical_features:\n",
    "  print(f\"Feature: {numerical_feature}\")\n",
    "  print(f\"Descriptive Statistics: \\n{df[numerical_feature].describe()}\")\n",
    "  print(\"-\" * 20)"
   ]
  },
  {
   "cell_type": "markdown",
   "id": "cf35bea1",
   "metadata": {},
   "source": [
    "\n",
    "## Step 4: Exploratory Data Analysis (EDA)"
   ]
  },
  {
   "cell_type": "code",
   "execution_count": 21,
   "id": "1bc143cb",
   "metadata": {},
   "outputs": [
    {
     "name": "stderr",
     "output_type": "stream",
     "text": [
      "C:\\Users\\Hp\\AppData\\Local\\Temp\\ipykernel_18176\\3526648938.py:8: UserWarning: Tight layout not applied. tight_layout cannot make axes height small enough to accommodate all axes decorations.\n",
      "  plt.tight_layout()\n"
     ]
    },
    {
     "data": {
      "image/png": "[encoded data removed]",
      "text/plain": [
       "<Figure size 640x480 with 7 Axes>"
      ]
     },
     "metadata": {},
     "output_type": "display_data"
    }
   ],
   "source": [
    "for numerical_feature in numerical_features:\n",
    "  ax = plt.subplot(15, 3, plotnumber)\n",
    "  sns.histplot(df[numerical_feature])\n",
    "  plt.xlabel(numerical_feature)\n",
    "  plt.ylabel('Frequency')\n",
    "  plotnumber += 1\n",
    "\n",
    "plt.tight_layout()\n",
    "plt.show()"
   ]
  },
  {
   "cell_type": "code",
   "execution_count": 22,
   "id": "6e0effd1",
   "metadata": {},
   "outputs": [
    {
     "name": "stdout",
     "output_type": "stream",
     "text": [
      "Discrete Numerical Features:\n",
      "[]\n"
     ]
    }
   ],
   "source": [
    "discrete_numerical_features = []\n",
    "for feature in numerical_features:\n",
    "  if df[feature].nunique() < 20:  # Adjust this threshold as needed\n",
    "    discrete_numerical_features.append(feature)\n",
    "\n",
    "print(\"Discrete Numerical Features:\")\n",
    "print(discrete_numerical_features)"
   ]
  },
  {
   "cell_type": "code",
   "execution_count": 23,
   "id": "b6b47ca8",
   "metadata": {},
   "outputs": [
    {
     "name": "stdout",
     "output_type": "stream",
     "text": [
      "Continuous Numerical Features:\n",
      "['age', 'balance', 'day', 'duration', 'campaign', 'pdays', 'previous']\n"
     ]
    },
    {
     "data": {
      "text/plain": [
       "<Figure size 1200x800 with 0 Axes>"
      ]
     },
     "metadata": {},
     "output_type": "display_data"
    }
   ],
   "source": [
    "continuous_numerical_features = [\n",
    "    feature for feature in numerical_features\n",
    "    if feature not in discrete_numerical_features\n",
    "]\n",
    "\n",
    "print(\"Continuous Numerical Features:\")\n",
    "print(continuous_numerical_features)\n",
    "\n",
    "plt.figure(figsize=(12, 8))\n",
    "plotnumber = 1"
   ]
  },
  {
   "cell_type": "code",
   "execution_count": 24,
   "id": "95bf522e",
   "metadata": {},
   "outputs": [
    {
     "name": "stderr",
     "output_type": "stream",
     "text": [
      "C:\\Users\\Hp\\AppData\\Local\\Temp\\ipykernel_18176\\2085619973.py:9: UserWarning: Tight layout not applied. tight_layout cannot make axes height small enough to accommodate all axes decorations.\n",
      "  plt.tight_layout()\n"
     ]
    },
    {
     "data": {
      "image/png": "[encoded data removed]",
      "text/plain": [
       "<Figure size 640x480 with 7 Axes>"
      ]
     },
     "metadata": {},
     "output_type": "display_data"
    }
   ],
   "source": [
    "for numerical_feature in continuous_numerical_features:\n",
    "    ax = plt.subplot(len(continuous_numerical_features), 1, plotnumber)\n",
    "    sns.histplot(df[numerical_feature], kde=True)\n",
    "    plt.title(f\"Distribution of {numerical_feature}\")\n",
    "    plt.xlabel(numerical_feature)\n",
    "    plt.ylabel(\"Frequency\")\n",
    "    plotnumber += 1\n",
    "\n",
    "plt.tight_layout()\n",
    "plt.show()"
   ]
  },
  {
   "cell_type": "code",
   "execution_count": 25,
   "id": "9171a945",
   "metadata": {},
   "outputs": [
    {
     "data": {
      "image/png": "[encoded data removed]",
      "text/plain": [
       "<Figure size 1200x800 with 7 Axes>"
      ]
     },
     "metadata": {},
     "output_type": "display_data"
    }
   ],
   "source": [
    "plt.figure(figsize=(12, 8))\n",
    "plotnumber = 1\n",
    "for numerical_feature in continuous_numerical_features:\n",
    "  ax = plt.subplot(len(continuous_numerical_features), 1, plotnumber)\n",
    "  sns.boxplot(x=df[numerical_feature])\n",
    "  plt.title(f\"Distribution of {numerical_feature}\")\n",
    "  plt.xlabel(numerical_feature)\n",
    "  plotnumber += 1\n",
    "\n",
    "plt.tight_layout()\n",
    "plt.show()"
   ]
  },
  {
   "cell_type": "code",
   "execution_count": 26,
   "id": "afcfd6ea",
   "metadata": {},
   "outputs": [
    {
     "data": {
      "image/png": "[encoded data removed]",
      "text/plain": [
       "<Figure size 1200x800 with 2 Axes>"
      ]
     },
     "metadata": {},
     "output_type": "display_data"
    }
   ],
   "source": [
    "# Correlation matrix\n",
    "correlation_matrix = df[numerical_features].corr()\n",
    "plt.figure(figsize=(12, 8))\n",
    "sns.heatmap(correlation_matrix, annot=True, cmap='coolwarm', fmt=\".2f\")\n",
    "plt.title('Correlation Matrix of Numerical Features')\n",
    "plt.show()"
   ]
  },
  {
   "cell_type": "code",
   "execution_count": 27,
   "id": "9abf9c8b",
   "metadata": {},
   "outputs": [
    {
     "data": {
      "image/png": "[encoded data removed]",
      "text/plain": [
       "<Figure size 640x480 with 1 Axes>"
      ]
     },
     "metadata": {},
     "output_type": "display_data"
    }
   ],
   "source": [
    "sns.countplot(x='y', data=df)\n",
    "plt.title('Distribution of Target Variable')\n",
    "plt.show()"
   ]
  },
  {
   "cell_type": "code",
   "execution_count": 28,
   "id": "b4acb7b4",
   "metadata": {},
   "outputs": [
    {
     "data": {
      "text/plain": [
       "y\n",
       "no     43922\n",
       "yes     5810\n",
       "Name: y, dtype: int64"
      ]
     },
     "execution_count": 28,
     "metadata": {},
     "output_type": "execute_result"
    }
   ],
   "source": [
    "df['y'].groupby(df['y']).count()"
   ]
  },
  {
   "cell_type": "markdown",
   "id": "447f9b68",
   "metadata": {},
   "source": [
    "##  Step 6: Feature Engineering :- "
   ]
  },
  {
   "cell_type": "code",
   "execution_count": 29,
   "id": "5d9fbc65",
   "metadata": {},
   "outputs": [],
   "source": [
    "df2=df.copy()\n"
   ]
  },
  {
   "cell_type": "code",
   "execution_count": 30,
   "id": "ee54a2c5",
   "metadata": {},
   "outputs": [
    {
     "data": {
      "text/html": [
       "<div>\n",
       "<style scoped>\n",
       "    .dataframe tbody tr th:only-of-type {\n",
       "        vertical-align: middle;\n",
       "    }\n",
       "\n",
       "    .dataframe tbody tr th {\n",
       "        vertical-align: top;\n",
       "    }\n",
       "\n",
       "    .dataframe thead th {\n",
       "        text-align: right;\n",
       "    }\n",
       "</style>\n",
       "<table border=\"1\" class=\"dataframe\">\n",
       "  <thead>\n",
       "    <tr style=\"text-align: right;\">\n",
       "      <th></th>\n",
       "      <th>age</th>\n",
       "      <th>job</th>\n",
       "      <th>marital</th>\n",
       "      <th>education</th>\n",
       "      <th>default</th>\n",
       "      <th>balance</th>\n",
       "      <th>housing</th>\n",
       "      <th>loan</th>\n",
       "      <th>contact</th>\n",
       "      <th>day</th>\n",
       "      <th>month</th>\n",
       "      <th>duration</th>\n",
       "      <th>campaign</th>\n",
       "      <th>pdays</th>\n",
       "      <th>previous</th>\n",
       "      <th>poutcome</th>\n",
       "      <th>y</th>\n",
       "    </tr>\n",
       "  </thead>\n",
       "  <tbody>\n",
       "    <tr>\n",
       "      <th>0</th>\n",
       "      <td>30</td>\n",
       "      <td>unemployed</td>\n",
       "      <td>married</td>\n",
       "      <td>primary</td>\n",
       "      <td>no</td>\n",
       "      <td>1787</td>\n",
       "      <td>no</td>\n",
       "      <td>no</td>\n",
       "      <td>cellular</td>\n",
       "      <td>19</td>\n",
       "      <td>oct</td>\n",
       "      <td>79</td>\n",
       "      <td>1</td>\n",
       "      <td>-1</td>\n",
       "      <td>0</td>\n",
       "      <td>unknown</td>\n",
       "      <td>no</td>\n",
       "    </tr>\n",
       "    <tr>\n",
       "      <th>1</th>\n",
       "      <td>33</td>\n",
       "      <td>services</td>\n",
       "      <td>married</td>\n",
       "      <td>secondary</td>\n",
       "      <td>no</td>\n",
       "      <td>4789</td>\n",
       "      <td>yes</td>\n",
       "      <td>yes</td>\n",
       "      <td>cellular</td>\n",
       "      <td>11</td>\n",
       "      <td>may</td>\n",
       "      <td>220</td>\n",
       "      <td>1</td>\n",
       "      <td>339</td>\n",
       "      <td>4</td>\n",
       "      <td>failure</td>\n",
       "      <td>no</td>\n",
       "    </tr>\n",
       "    <tr>\n",
       "      <th>2</th>\n",
       "      <td>35</td>\n",
       "      <td>management</td>\n",
       "      <td>single</td>\n",
       "      <td>tertiary</td>\n",
       "      <td>no</td>\n",
       "      <td>1350</td>\n",
       "      <td>yes</td>\n",
       "      <td>no</td>\n",
       "      <td>cellular</td>\n",
       "      <td>16</td>\n",
       "      <td>apr</td>\n",
       "      <td>185</td>\n",
       "      <td>1</td>\n",
       "      <td>330</td>\n",
       "      <td>1</td>\n",
       "      <td>failure</td>\n",
       "      <td>no</td>\n",
       "    </tr>\n",
       "    <tr>\n",
       "      <th>3</th>\n",
       "      <td>30</td>\n",
       "      <td>management</td>\n",
       "      <td>married</td>\n",
       "      <td>tertiary</td>\n",
       "      <td>no</td>\n",
       "      <td>1476</td>\n",
       "      <td>yes</td>\n",
       "      <td>yes</td>\n",
       "      <td>unknown</td>\n",
       "      <td>3</td>\n",
       "      <td>jun</td>\n",
       "      <td>199</td>\n",
       "      <td>4</td>\n",
       "      <td>-1</td>\n",
       "      <td>0</td>\n",
       "      <td>unknown</td>\n",
       "      <td>no</td>\n",
       "    </tr>\n",
       "    <tr>\n",
       "      <th>4</th>\n",
       "      <td>59</td>\n",
       "      <td>blue-collar</td>\n",
       "      <td>married</td>\n",
       "      <td>secondary</td>\n",
       "      <td>no</td>\n",
       "      <td>0</td>\n",
       "      <td>yes</td>\n",
       "      <td>no</td>\n",
       "      <td>unknown</td>\n",
       "      <td>5</td>\n",
       "      <td>may</td>\n",
       "      <td>226</td>\n",
       "      <td>1</td>\n",
       "      <td>-1</td>\n",
       "      <td>0</td>\n",
       "      <td>unknown</td>\n",
       "      <td>no</td>\n",
       "    </tr>\n",
       "  </tbody>\n",
       "</table>\n",
       "</div>"
      ],
      "text/plain": [
       "   age          job  marital  education default  balance housing loan  \\\n",
       "0   30   unemployed  married    primary      no     1787      no   no   \n",
       "1   33     services  married  secondary      no     4789     yes  yes   \n",
       "2   35   management   single   tertiary      no     1350     yes   no   \n",
       "3   30   management  married   tertiary      no     1476     yes  yes   \n",
       "4   59  blue-collar  married  secondary      no        0     yes   no   \n",
       "\n",
       "    contact  day month  duration  campaign  pdays  previous poutcome   y  \n",
       "0  cellular   19   oct        79         1     -1         0  unknown  no  \n",
       "1  cellular   11   may       220         1    339         4  failure  no  \n",
       "2  cellular   16   apr       185         1    330         1  failure  no  \n",
       "3   unknown    3   jun       199         4     -1         0  unknown  no  \n",
       "4   unknown    5   may       226         1     -1         0  unknown  no  "
      ]
     },
     "execution_count": 30,
     "metadata": {},
     "output_type": "execute_result"
    }
   ],
   "source": [
    "df2.head()"
   ]
  },
  {
   "cell_type": "code",
   "execution_count": 31,
   "id": "e8dcdb56",
   "metadata": {},
   "outputs": [
    {
     "data": {
      "text/plain": [
       "(49732, 17)"
      ]
     },
     "execution_count": 31,
     "metadata": {},
     "output_type": "execute_result"
    }
   ],
   "source": [
    "df2.shape"
   ]
  },
  {
   "cell_type": "code",
   "execution_count": 32,
   "id": "bf62ce46",
   "metadata": {},
   "outputs": [
    {
     "data": {
      "text/plain": [
       "y    default\n",
       "no   no         43092\n",
       "     yes          830\n",
       "yes  no          5749\n",
       "     yes           61\n",
       "dtype: int64"
      ]
     },
     "execution_count": 32,
     "metadata": {},
     "output_type": "execute_result"
    }
   ],
   "source": [
    "df2.groupby(['y','default']).size()"
   ]
  },
  {
   "cell_type": "code",
   "execution_count": 33,
   "id": "7245e7b9",
   "metadata": {},
   "outputs": [],
   "source": [
    "df2.drop('default',axis=1,inplace=True)"
   ]
  },
  {
   "cell_type": "code",
   "execution_count": 34,
   "id": "c405271f",
   "metadata": {},
   "outputs": [
    {
     "data": {
      "text/plain": [
       "y    pdays\n",
       "no   -1       36938\n",
       "      1           9\n",
       "      2          42\n",
       "      3           2\n",
       "      4           1\n",
       "              ...  \n",
       "yes   804         2\n",
       "      805         1\n",
       "      828         1\n",
       "      842         1\n",
       "      854         1\n",
       "Length: 914, dtype: int64"
      ]
     },
     "execution_count": 34,
     "metadata": {},
     "output_type": "execute_result"
    }
   ],
   "source": [
    "df2.groupby(['y','pdays']).size()"
   ]
  },
  {
   "cell_type": "code",
   "execution_count": 35,
   "id": "5c9aff2a",
   "metadata": {},
   "outputs": [],
   "source": [
    "df2.drop('pdays',axis=1,inplace=True)"
   ]
  },
  {
   "cell_type": "code",
   "execution_count": 36,
   "id": "4400859c",
   "metadata": {},
   "outputs": [
    {
     "data": {
      "text/plain": [
       "age\n",
       "18     12\n",
       "19     39\n",
       "20     53\n",
       "21     86\n",
       "22    138\n",
       "     ... \n",
       "90      2\n",
       "92      2\n",
       "93      2\n",
       "94      1\n",
       "95      2\n",
       "Name: age, Length: 77, dtype: int64"
      ]
     },
     "execution_count": 36,
     "metadata": {},
     "output_type": "execute_result"
    }
   ],
   "source": [
    "df2.groupby('age',sort=True)['age'].count()"
   ]
  },
  {
   "cell_type": "code",
   "execution_count": 37,
   "id": "8a1ce5d5",
   "metadata": {},
   "outputs": [
    {
     "data": {
      "text/plain": [
       "y    balance\n",
       "no   -8019      1\n",
       "     -6847      1\n",
       "     -4057      1\n",
       "     -3372      1\n",
       "     -3313      2\n",
       "               ..\n",
       "yes   34646     1\n",
       "      36252     1\n",
       "      45248     1\n",
       "      52587     2\n",
       "      81204     2\n",
       "Name: balance, Length: 9258, dtype: int64"
      ]
     },
     "execution_count": 37,
     "metadata": {},
     "output_type": "execute_result"
    }
   ],
   "source": [
    "df2.groupby(['y','balance'],sort=True)['balance'].count()"
   ]
  },
  {
   "cell_type": "code",
   "execution_count": 38,
   "id": "a7cab03a",
   "metadata": {},
   "outputs": [
    {
     "data": {
      "text/plain": [
       "y    duration\n",
       "no   0            3\n",
       "     1            2\n",
       "     2            3\n",
       "     3            4\n",
       "     4           16\n",
       "                 ..\n",
       "yes  3094         1\n",
       "     3102         1\n",
       "     3183         1\n",
       "     3253         1\n",
       "     3881         1\n",
       "Name: duration, Length: 2627, dtype: int64"
      ]
     },
     "execution_count": 38,
     "metadata": {},
     "output_type": "execute_result"
    }
   ],
   "source": [
    "df2.groupby(['y','duration'],sort=True)['duration'].count()"
   ]
  },
  {
   "cell_type": "code",
   "execution_count": 39,
   "id": "43bd4773",
   "metadata": {},
   "outputs": [
    {
     "data": {
      "text/plain": [
       "y    campaign\n",
       "no   1           16477\n",
       "     2           12230\n",
       "     3            5404\n",
       "     4            3487\n",
       "     5            1783\n",
       "                 ...  \n",
       "yes  20              1\n",
       "     21              1\n",
       "     24              2\n",
       "     29              1\n",
       "     32              1\n",
       "Name: campaign, Length: 70, dtype: int64"
      ]
     },
     "execution_count": 39,
     "metadata": {},
     "output_type": "execute_result"
    }
   ],
   "source": [
    "df2.groupby(['y','campaign'],sort=True)['campaign'].count()"
   ]
  },
  {
   "cell_type": "code",
   "execution_count": 40,
   "id": "cc7e13c2",
   "metadata": {},
   "outputs": [],
   "source": [
    "df3 = df2[df2['campaign']<25]"
   ]
  },
  {
   "cell_type": "code",
   "execution_count": 41,
   "id": "861dfee0",
   "metadata": {},
   "outputs": [
    {
     "data": {
      "text/plain": [
       "y    campaign\n",
       "no   1           16477\n",
       "     2           12230\n",
       "     3            5404\n",
       "     4            3487\n",
       "     5            1783\n",
       "     6            1338\n",
       "     7             757\n",
       "     8             560\n",
       "     9             334\n",
       "     10            278\n",
       "     11            207\n",
       "     12            171\n",
       "     13            142\n",
       "     14             99\n",
       "     15             89\n",
       "     16             85\n",
       "     17             69\n",
       "     18             58\n",
       "     19             47\n",
       "     20             45\n",
       "     21             36\n",
       "     22             25\n",
       "     23             24\n",
       "     24             21\n",
       "yes  1            2801\n",
       "     2            1539\n",
       "     3             675\n",
       "     4             360\n",
       "     5             148\n",
       "     6             108\n",
       "     7              53\n",
       "     8              36\n",
       "     9              23\n",
       "     10             15\n",
       "     11             16\n",
       "     12              5\n",
       "     13              8\n",
       "     14              4\n",
       "     15              4\n",
       "     16              2\n",
       "     17              7\n",
       "     20              1\n",
       "     21              1\n",
       "     24              2\n",
       "Name: campaign, dtype: int64"
      ]
     },
     "execution_count": 41,
     "metadata": {},
     "output_type": "execute_result"
    }
   ],
   "source": [
    "df3.groupby(['y','campaign'],sort=True)['campaign'].count()"
   ]
  },
  {
   "cell_type": "code",
   "execution_count": 42,
   "id": "97ce262e",
   "metadata": {},
   "outputs": [
    {
     "data": {
      "text/plain": [
       "y    previous\n",
       "no   0           36782\n",
       "     1            2424\n",
       "     2            1793\n",
       "     3             939\n",
       "     4             596\n",
       "                 ...  \n",
       "yes  26              1\n",
       "     29              1\n",
       "     30              1\n",
       "     55              1\n",
       "     58              1\n",
       "Name: previous, Length: 66, dtype: int64"
      ]
     },
     "execution_count": 42,
     "metadata": {},
     "output_type": "execute_result"
    }
   ],
   "source": [
    "df3.groupby(['y','previous'],sort=True)['previous'].count()"
   ]
  },
  {
   "cell_type": "code",
   "execution_count": 43,
   "id": "eecc3fdb",
   "metadata": {},
   "outputs": [],
   "source": [
    "df4 = df3[df3['previous']<31]"
   ]
  },
  {
   "cell_type": "code",
   "execution_count": 44,
   "id": "d2866835",
   "metadata": {},
   "outputs": [],
   "source": [
    "cat_columns = ['job', 'marital', 'education', 'contact', 'month', 'poutcome']\n",
    "for col in cat_columns:\n",
    "    df3 = pd.concat([df3.drop(col, axis=1),pd.get_dummies(df3[col],prefix_sep='_',drop_first=True,dummy_na=False)], axis=1)"
   ]
  },
  {
   "cell_type": "code",
   "execution_count": 45,
   "id": "3de2cbf6",
   "metadata": {},
   "outputs": [],
   "source": [
    "bool_columns = ['housing', 'loan','y']\n",
    "for col in bool_columns:\n",
    "    if col in df3.columns:  # Check if the column exists before processing\n",
    "        df3[col+'_new']=df3[col].apply(lambda x : 1 if x == 'yes' else 0)\n",
    "        df3.drop(col,axis=1,inplace=True)"
   ]
  },
  {
   "cell_type": "code",
   "execution_count": 46,
   "id": "fd2f8a99",
   "metadata": {},
   "outputs": [
    {
     "data": {
      "text/html": [
       "<div>\n",
       "<style scoped>\n",
       "    .dataframe tbody tr th:only-of-type {\n",
       "        vertical-align: middle;\n",
       "    }\n",
       "\n",
       "    .dataframe tbody tr th {\n",
       "        vertical-align: top;\n",
       "    }\n",
       "\n",
       "    .dataframe thead th {\n",
       "        text-align: right;\n",
       "    }\n",
       "</style>\n",
       "<table border=\"1\" class=\"dataframe\">\n",
       "  <thead>\n",
       "    <tr style=\"text-align: right;\">\n",
       "      <th></th>\n",
       "      <th>age</th>\n",
       "      <th>job</th>\n",
       "      <th>marital</th>\n",
       "      <th>education</th>\n",
       "      <th>balance</th>\n",
       "      <th>housing</th>\n",
       "      <th>loan</th>\n",
       "      <th>contact</th>\n",
       "      <th>day</th>\n",
       "      <th>month</th>\n",
       "      <th>duration</th>\n",
       "      <th>campaign</th>\n",
       "      <th>previous</th>\n",
       "      <th>poutcome</th>\n",
       "      <th>y</th>\n",
       "    </tr>\n",
       "  </thead>\n",
       "  <tbody>\n",
       "    <tr>\n",
       "      <th>0</th>\n",
       "      <td>30</td>\n",
       "      <td>unemployed</td>\n",
       "      <td>married</td>\n",
       "      <td>primary</td>\n",
       "      <td>1787</td>\n",
       "      <td>no</td>\n",
       "      <td>no</td>\n",
       "      <td>cellular</td>\n",
       "      <td>19</td>\n",
       "      <td>oct</td>\n",
       "      <td>79</td>\n",
       "      <td>1</td>\n",
       "      <td>0</td>\n",
       "      <td>unknown</td>\n",
       "      <td>no</td>\n",
       "    </tr>\n",
       "    <tr>\n",
       "      <th>1</th>\n",
       "      <td>33</td>\n",
       "      <td>services</td>\n",
       "      <td>married</td>\n",
       "      <td>secondary</td>\n",
       "      <td>4789</td>\n",
       "      <td>yes</td>\n",
       "      <td>yes</td>\n",
       "      <td>cellular</td>\n",
       "      <td>11</td>\n",
       "      <td>may</td>\n",
       "      <td>220</td>\n",
       "      <td>1</td>\n",
       "      <td>4</td>\n",
       "      <td>failure</td>\n",
       "      <td>no</td>\n",
       "    </tr>\n",
       "    <tr>\n",
       "      <th>2</th>\n",
       "      <td>35</td>\n",
       "      <td>management</td>\n",
       "      <td>single</td>\n",
       "      <td>tertiary</td>\n",
       "      <td>1350</td>\n",
       "      <td>yes</td>\n",
       "      <td>no</td>\n",
       "      <td>cellular</td>\n",
       "      <td>16</td>\n",
       "      <td>apr</td>\n",
       "      <td>185</td>\n",
       "      <td>1</td>\n",
       "      <td>1</td>\n",
       "      <td>failure</td>\n",
       "      <td>no</td>\n",
       "    </tr>\n",
       "    <tr>\n",
       "      <th>3</th>\n",
       "      <td>30</td>\n",
       "      <td>management</td>\n",
       "      <td>married</td>\n",
       "      <td>tertiary</td>\n",
       "      <td>1476</td>\n",
       "      <td>yes</td>\n",
       "      <td>yes</td>\n",
       "      <td>unknown</td>\n",
       "      <td>3</td>\n",
       "      <td>jun</td>\n",
       "      <td>199</td>\n",
       "      <td>4</td>\n",
       "      <td>0</td>\n",
       "      <td>unknown</td>\n",
       "      <td>no</td>\n",
       "    </tr>\n",
       "    <tr>\n",
       "      <th>4</th>\n",
       "      <td>59</td>\n",
       "      <td>blue-collar</td>\n",
       "      <td>married</td>\n",
       "      <td>secondary</td>\n",
       "      <td>0</td>\n",
       "      <td>yes</td>\n",
       "      <td>no</td>\n",
       "      <td>unknown</td>\n",
       "      <td>5</td>\n",
       "      <td>may</td>\n",
       "      <td>226</td>\n",
       "      <td>1</td>\n",
       "      <td>0</td>\n",
       "      <td>unknown</td>\n",
       "      <td>no</td>\n",
       "    </tr>\n",
       "  </tbody>\n",
       "</table>\n",
       "</div>"
      ],
      "text/plain": [
       "   age          job  marital  education  balance housing loan   contact  day  \\\n",
       "0   30   unemployed  married    primary     1787      no   no  cellular   19   \n",
       "1   33     services  married  secondary     4789     yes  yes  cellular   11   \n",
       "2   35   management   single   tertiary     1350     yes   no  cellular   16   \n",
       "3   30   management  married   tertiary     1476     yes  yes   unknown    3   \n",
       "4   59  blue-collar  married  secondary        0     yes   no   unknown    5   \n",
       "\n",
       "  month  duration  campaign  previous poutcome   y  \n",
       "0   oct        79         1         0  unknown  no  \n",
       "1   may       220         1         4  failure  no  \n",
       "2   apr       185         1         1  failure  no  \n",
       "3   jun       199         4         0  unknown  no  \n",
       "4   may       226         1         0  unknown  no  "
      ]
     },
     "execution_count": 46,
     "metadata": {},
     "output_type": "execute_result"
    }
   ],
   "source": [
    "df4.head()"
   ]
  },
  {
   "cell_type": "markdown",
   "id": "24f0bc93",
   "metadata": {},
   "source": [
    "## Step 7: Model Selection"
   ]
  },
  {
   "cell_type": "code",
   "execution_count": 47,
   "id": "2a73dda4",
   "metadata": {},
   "outputs": [],
   "source": [
    "from sklearn.model_selection import train_test_split"
   ]
  },
  {
   "cell_type": "code",
   "execution_count": 48,
   "id": "dbbad8a2",
   "metadata": {},
   "outputs": [],
   "source": [
    "X = df3.drop('y_new', axis=1)\n",
    "y = df3['y_new']"
   ]
  },
  {
   "cell_type": "code",
   "execution_count": 49,
   "id": "f196a827",
   "metadata": {},
   "outputs": [],
   "source": [
    "X_train, X_test, y_train, y_test = train_test_split(X, y, test_size=0.2, random_state=42)"
   ]
  },
  {
   "cell_type": "code",
   "execution_count": 50,
   "id": "8d871e62",
   "metadata": {},
   "outputs": [
    {
     "data": {
      "text/plain": [
       "39659"
      ]
     },
     "execution_count": 50,
     "metadata": {},
     "output_type": "execute_result"
    }
   ],
   "source": [
    "len(X_train)"
   ]
  },
  {
   "cell_type": "code",
   "execution_count": 51,
   "id": "82f09850",
   "metadata": {},
   "outputs": [
    {
     "data": {
      "text/plain": [
       "9915"
      ]
     },
     "execution_count": 51,
     "metadata": {},
     "output_type": "execute_result"
    }
   ],
   "source": [
    "len(X_test)"
   ]
  },
  {
   "cell_type": "code",
   "execution_count": 52,
   "id": "d83b91ca",
   "metadata": {},
   "outputs": [],
   "source": [
    "from sklearn.linear_model import LogisticRegression\n",
    "from sklearn.ensemble import RandomForestClassifier\n",
    "from sklearn.svm import SVC\n",
    "from sklearn.model_selection import cross_val_score\n",
    "from sklearn.metrics import accuracy_score, precision_score, recall_score, f1_score"
   ]
  },
  {
   "cell_type": "code",
   "execution_count": 53,
   "id": "6fce0a0b",
   "metadata": {},
   "outputs": [],
   "source": [
    "from sklearn.preprocessing import StandardScaler\n",
    "\n",
    "# Scale the data using StandardScaler\n",
    "scaler = StandardScaler()\n",
    "X_train = scaler.fit_transform(X_train)\n",
    "X_test = scaler.transform(X_test)"
   ]
  },
  {
   "cell_type": "code",
   "execution_count": 54,
   "id": "af5f79fd",
   "metadata": {},
   "outputs": [],
   "source": [
    "models = {\n",
    "    'Logistic Regression': LogisticRegression(max_iter=1000, solver='lbfgs'),\n",
    "    'Random Forest': RandomForestClassifier(),\n",
    "    'Support Vector Machine': SVC(),\n",
    "    \n",
    "}"
   ]
  },
  {
   "cell_type": "code",
   "execution_count": 55,
   "id": "0f0d5b28",
   "metadata": {},
   "outputs": [
    {
     "name": "stdout",
     "output_type": "stream",
     "text": [
      "Accuracy: 0.9220373171961674\n",
      "Precision: 0.7263427109974424\n",
      "Recall: 0.5039929015084295\n",
      "F1-Score: 0.5950759559979046\n"
     ]
    }
   ],
   "source": [
    "model = RandomForestClassifier()\n",
    "model.fit(X_train, y_train)\n",
    "y_pred = model.predict(X_test)\n",
    "accuracy = accuracy_score(y_test, y_pred)\n",
    "precision = precision_score(y_test, y_pred)\n",
    "recall = recall_score(y_test, y_pred)\n",
    "f1 = f1_score(y_test, y_pred)\n",
    "\n",
    "print(f\"Accuracy: {accuracy}\")\n",
    "print(f\"Precision: {precision}\")\n",
    "print(f\"Recall: {recall}\")\n",
    "print(f\"F1-Score: {f1}\")"
   ]
  },
  {
   "cell_type": "code",
   "execution_count": 56,
   "id": "dfad5b90",
   "metadata": {},
   "outputs": [
    {
     "name": "stdout",
     "output_type": "stream",
     "text": [
      "Accuracy: 0.9077155824508321\n",
      "Precision: 0.6948529411764706\n",
      "Recall: 0.33540372670807456\n",
      "F1-Score: 0.4524236983842011\n"
     ]
    }
   ],
   "source": [
    "model = SVC()\n",
    "model.fit(X_train, y_train)\n",
    "y_pred = model.predict(X_test)\n",
    "accuracy = accuracy_score(y_test, y_pred)\n",
    "precision = precision_score(y_test, y_pred)\n",
    "recall = recall_score(y_test, y_pred)\n",
    "f1 = f1_score(y_test, y_pred)\n",
    "\n",
    "print(f\"Accuracy: {accuracy}\")\n",
    "print(f\"Precision: {precision}\")\n",
    "print(f\"Recall: {recall}\")\n",
    "print(f\"F1-Score: {f1}\")"
   ]
  },
  {
   "cell_type": "code",
   "execution_count": 57,
   "id": "47417df8",
   "metadata": {},
   "outputs": [
    {
     "name": "stdout",
     "output_type": "stream",
     "text": [
      "Accuracy: 0.9039838628340897\n",
      "Precision: 0.6460767946577629\n",
      "Recall: 0.3433895297249335\n",
      "F1-Score: 0.4484356894553882\n"
     ]
    }
   ],
   "source": [
    "model = LogisticRegression()\n",
    "model.fit(X_train, y_train)\n",
    "y_pred = model.predict(X_test)\n",
    "accuracy = accuracy_score(y_test, y_pred)\n",
    "precision = precision_score(y_test, y_pred)\n",
    "recall = recall_score(y_test, y_pred)\n",
    "f1 = f1_score(y_test, y_pred)\n",
    "\n",
    "print(f\"Accuracy: {accuracy}\")\n",
    "print(f\"Precision: {precision}\")\n",
    "print(f\"Recall: {recall}\")\n",
    "print(f\"F1-Score: {f1}\")"
   ]
  },
  {
   "cell_type": "code",
   "execution_count": 58,
   "id": "1edc390a",
   "metadata": {},
   "outputs": [
    {
     "name": "stdout",
     "output_type": "stream",
     "text": [
      "Logistic Regression:\n",
      "Cross-validation scores: [0.89977307 0.90191629 0.90456379 0.89889057 0.89849956]\n",
      "Mean cross-validation score: 0.9007286560655243\n",
      "--------------------\n",
      "Random Forest:\n",
      "Cross-validation scores: [0.91313666 0.91780131 0.91843167 0.91515381 0.90946917]\n",
      "Mean cross-validation score: 0.9147985241848614\n",
      "--------------------\n",
      "Support Vector Machine:\n",
      "Cross-validation scores: [0.90330308 0.90330308 0.90733737 0.90204236 0.89887782]\n",
      "Mean cross-validation score: 0.9029727402375494\n",
      "--------------------\n"
     ]
    }
   ],
   "source": [
    "for model_name, model in models.items():\n",
    "  cv_scores = cross_val_score(model, X_train, y_train, cv=5, scoring='accuracy')\n",
    "  print(f\"{model_name}:\")\n",
    "  print(f\"Cross-validation scores: {cv_scores}\")\n",
    "  print(f\"Mean cross-validation score: {np.mean(cv_scores)}\")\n",
    "  print(\"-\" * 20)"
   ]
  },
  {
   "cell_type": "code",
   "execution_count": 59,
   "id": "118d0999",
   "metadata": {},
   "outputs": [
    {
     "name": "stdout",
     "output_type": "stream",
     "text": [
      "Logistic Regression:\n",
      "Cross-validation scores: [0.89977307 0.90191629 0.90456379 0.89889057 0.89849956]\n",
      "Mean cross-validation score: 0.9007286560655243\n",
      "--------------------\n",
      "Random Forest:\n",
      "Cross-validation scores: [0.91490166 0.91578417 0.91855774 0.91212809 0.90984743]\n",
      "Mean cross-validation score: 0.9142438186443297\n",
      "--------------------\n",
      "Support Vector Machine:\n",
      "Cross-validation scores: [0.90330308 0.90330308 0.90733737 0.90204236 0.89887782]\n",
      "Mean cross-validation score: 0.9029727402375494\n",
      "--------------------\n"
     ]
    }
   ],
   "source": [
    "for model_name, model in models.items():\n",
    "  cv_scores = cross_val_score(model, X_train, y_train, cv=5, scoring='accuracy')\n",
    "  print(f\"{model_name}:\")\n",
    "  print(f\"Cross-validation scores: {cv_scores}\")\n",
    "  print(f\"Mean cross-validation score: {np.mean(cv_scores)}\")\n",
    "  print(\"-\" * 20)"
   ]
  },
  {
   "cell_type": "code",
   "execution_count": null,
   "id": "7e46b67d",
   "metadata": {},
   "outputs": [],
   "source": []
  }
 ],
 "metadata": {
  "kernelspec": {
   "display_name": "Python 3 (ipykernel)",
   "language": "python",
   "name": "python3"
  },
  "language_info": {
   "codemirror_mode": {
    "name": "ipython",
    "version": 3
   },
   "file_extension": ".py",
   "mimetype": "text/x-python",
   "name": "python",
   "nbconvert_exporter": "python",
   "pygments_lexer": "ipython3",
   "version": "3.9.13"
  }
 },
 "nbformat": 4,
 "nbformat_minor": 5
}
